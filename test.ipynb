{
 "cells": [
  {
   "cell_type": "code",
   "execution_count": 6,
   "metadata": {},
   "outputs": [],
   "source": [
    "from utils.connect import connect\n",
    "from utils.aed_rows import add_row, edit_row, delete_row\n",
    "import pandas as pd"
   ]
  },
  {
   "cell_type": "code",
   "execution_count": 16,
   "metadata": {},
   "outputs": [],
   "source": [
    "# Load credentials (Replace with your credentials file path)\n",
    "creds = ServiceAccountCredentials.from_json_keyfile_name(\"credentials.json\", scope)\n",
    "client = gspread.authorize(creds)"
   ]
  },
  {
   "cell_type": "code",
   "execution_count": 9,
   "metadata": {},
   "outputs": [
    {
     "name": "stdout",
     "output_type": "stream",
     "text": [
      "         Date  Category  Amount Total  Income\n",
      "0  2025-02-02       fun     2.0  6471       0\n",
      "1  2025-02-01  haircut     10.0             0\n",
      "2  2025-02-01   family    100.0             0\n",
      "3  2025-02-01      rent   261.0             0\n",
      "4  2025-01-31       fun    14.0             0\n"
     ]
    }
   ],
   "source": [
    "# Open the CSV file (Assumes it's in Google Sheets)\n",
    "# sheet = client.open(os.getenv(\"sheet\")).sheet1  # Access first sheet\n",
    "\n",
    "# Get data as Pandas DataFrame\n",
    "data = sh.get_all_records()\n",
    "df = pd.DataFrame(data)\n",
    "\n",
    "print(df.head()) "
   ]
  },
  {
   "cell_type": "code",
   "execution_count": 8,
   "metadata": {},
   "outputs": [],
   "source": [
    "sh = connect()"
   ]
  },
  {
   "cell_type": "code",
   "execution_count": 30,
   "metadata": {},
   "outputs": [
    {
     "name": "stdout",
     "output_type": "stream",
     "text": [
      "Row added successfully!\n"
     ]
    }
   ],
   "source": [
    "# New row to add\n",
    "new_row = [\"2025-02-02\", \"fun\", 2, \"\", 0]  # NaN is for Total\n",
    "\n",
    "# Insert row\n",
    "sh.insert_row(new_row, 2)\n",
    "\n",
    "print(\"Row added successfully!\")\n"
   ]
  },
  {
   "cell_type": "code",
   "execution_count": 11,
   "metadata": {},
   "outputs": [],
   "source": [
    "# Convert 'Date' to datetime format for sorting\n",
    "df[\"Date\"] = pd.to_datetime(df[\"Date\"])\n",
    "\n",
    "# Sort by Date (latest first)\n",
    "df = df.sort_values(by=\"Date\", ascending=False).reset_index(drop=True)\n",
    "\n",
    "# Convert \"Total\" column to numeric (handling empty strings)\n",
    "df[\"Total\"] = pd.to_numeric(df[\"Total\"], errors=\"coerce\")\n",
    "\n",
    "# Iterate and compute the Total column\n",
    "for i in range(1, len(df)):  # Start from second row\n",
    "    if df.loc[i, \"Total\"] == \"\" or pd.isna(df.loc[i, \"Total\"]):  # If Total is empty\n",
    "        if df.loc[i, \"Income\"] == 0:  # Expense\n",
    "            df.loc[i, \"Total\"] = df.loc[i-1, \"Total\"] + df.loc[i, \"Amount\"]\n",
    "        else:  # Income\n",
    "            df.loc[i, \"Total\"] = df.loc[i-1, \"Total\"] - df.loc[i, \"Amount\"]\n",
    "\n",
    "# Convert Total column back to integer\n",
    "df[\"Total\"] = df[\"Total\"].astype(int)\n",
    "\n",
    "# Display the result\n",
    "# import ace_tools as tools\n",
    "# tools.display_dataframe_to_user(name=\"Updated Total Calculation\", dataframe=df)"
   ]
  },
  {
   "cell_type": "code",
   "execution_count": 19,
   "metadata": {},
   "outputs": [
    {
     "name": "stdout",
     "output_type": "stream",
     "text": [
      "<class 'pandas.core.frame.DataFrame'>\n",
      "RangeIndex: 950 entries, 0 to 949\n",
      "Data columns (total 5 columns):\n",
      " #   Column    Non-Null Count  Dtype  \n",
      "---  ------    --------------  -----  \n",
      " 0   Date      950 non-null    object \n",
      " 1   Category  950 non-null    object \n",
      " 2   Amount    950 non-null    float64\n",
      " 3   Total     950 non-null    int64  \n",
      " 4   Income    950 non-null    int64  \n",
      "dtypes: float64(1), int64(2), object(2)\n",
      "memory usage: 37.2+ KB\n"
     ]
    }
   ],
   "source": [
    "df.info()"
   ]
  },
  {
   "cell_type": "code",
   "execution_count": 20,
   "metadata": {},
   "outputs": [
    {
     "name": "stderr",
     "output_type": "stream",
     "text": [
      "/tmp/ipykernel_28458/3795469456.py:11: DeprecationWarning: The order of arguments in worksheet.update() has changed. Please pass values first and range_name secondor used named arguments (range_name=, values=)\n",
      "  sh.update(\"A1\", data_to_push)\n"
     ]
    },
    {
     "name": "stdout",
     "output_type": "stream",
     "text": [
      "✅ Data successfully updated in Google Sheets!\n"
     ]
    }
   ],
   "source": [
    "# Convert 'Date' to datetime format (if not already converted)\n",
    "df[\"Date\"] = pd.to_datetime(df[\"Date\"], errors=\"coerce\")\n",
    "\n",
    "# Now convert back to string format for Google Sheets\n",
    "df[\"Date\"] = df[\"Date\"].dt.strftime(\"%Y-%m-%d\")\n",
    "\n",
    "# Convert DataFrame to list of lists (Google Sheets format)\n",
    "data_to_push = [df.columns.tolist()] + df.values.tolist()\n",
    "\n",
    "# Overwrite entire sheet with updated data\n",
    "sh.update(\"A1\", data_to_push)\n",
    "\n",
    "print(\"✅ Data successfully updated in Google Sheets!\")"
   ]
  },
  {
   "cell_type": "code",
   "execution_count": 22,
   "metadata": {},
   "outputs": [
    {
     "name": "stderr",
     "output_type": "stream",
     "text": [
      "/tmp/ipykernel_28458/2312491031.py:21: FutureWarning: Setting an item of incompatible dtype is deprecated and will raise an error in a future version of pandas. Value '' has dtype incompatible with float64, please explicitly cast to a compatible dtype first.\n",
      "  df.loc[0, \"Total\"] = \"\"\n",
      "/tmp/ipykernel_28458/2312491031.py:33: DeprecationWarning: The order of arguments in worksheet.update() has changed. Please pass values first and range_name secondor used named arguments (range_name=, values=)\n",
      "  sheet.update(\"A1\", data_to_push)\n"
     ]
    },
    {
     "name": "stdout",
     "output_type": "stream",
     "text": [
      "✅ Data successfully updated in Google Sheets!\n"
     ]
    }
   ],
   "source": [
    "# Open the Google Sheet\n",
    "sheet = sh\n",
    "\n",
    "# ✅ 2. Read Data from Google Sheets into a DataFrame\n",
    "data = sheet.get_all_records()\n",
    "df = pd.DataFrame(data)\n",
    "\n",
    "# ✅ 3. Convert 'Date' to datetime format (handling any errors)\n",
    "df[\"Date\"] = pd.to_datetime(df[\"Date\"], errors=\"coerce\")\n",
    "\n",
    "# ✅ 4. Sort DataFrame by Date (latest first)\n",
    "df = df.sort_values(by=\"Date\", ascending=False).reset_index(drop=True)\n",
    "\n",
    "# ✅ 5. Convert \"Total\" column to numeric (handling empty values)\n",
    "df[\"Total\"] = pd.to_numeric(df[\"Total\"], errors=\"coerce\")\n",
    "\n",
    "# ✅ 6. Shift \"Total\" column down by one row\n",
    "df[\"Total\"] = df[\"Total\"].shift(1)\n",
    "\n",
    "# ✅ 7. Set the first row's \"Total\" to an empty string\n",
    "df.loc[0, \"Total\"] = \"\"\n",
    "\n",
    "# ✅ 8. Ensure \"Total\" remains integer where possible\n",
    "df[\"Total\"] = pd.to_numeric(df[\"Total\"], errors=\"coerce\").astype(\"Int64\")  # Keeps NaN as blank instead of float NaN\n",
    "\n",
    "# ✅ 9. Convert Date to string format before pushing\n",
    "df[\"Date\"] = df[\"Date\"].dt.strftime(\"%Y-%m-%d\")\n",
    "\n",
    "# ✅ 10. Push updated DataFrame back to Google Sheets\n",
    "data_to_push = [df.columns.tolist()] + df.astype(str).values.tolist()  # Ensure all values are strings for Google Sheets\n",
    "\n",
    "# Overwrite entire sheet with updated data\n",
    "sheet.update(\"A1\", data_to_push)\n",
    "\n",
    "print(\"✅ Data successfully updated in Google Sheets!\")\n"
   ]
  },
  {
   "cell_type": "code",
   "execution_count": null,
   "metadata": {},
   "outputs": [],
   "source": []
  }
 ],
 "metadata": {
  "kernelspec": {
   "display_name": ".venv",
   "language": "python",
   "name": "python3"
  },
  "language_info": {
   "codemirror_mode": {
    "name": "ipython",
    "version": 3
   },
   "file_extension": ".py",
   "mimetype": "text/x-python",
   "name": "python",
   "nbconvert_exporter": "python",
   "pygments_lexer": "ipython3",
   "version": "3.11.11"
  }
 },
 "nbformat": 4,
 "nbformat_minor": 2
}
